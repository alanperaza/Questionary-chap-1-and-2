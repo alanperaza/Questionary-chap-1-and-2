{
 "cells": [
  {
   "cell_type": "markdown",
   "metadata": {},
   "source": [
    "<h1><center>Questionary on the Big Data: Principles and Best Practices' first and second chapters.</center></h1>"
   ]
  },
  {
   "cell_type": "markdown",
   "metadata": {},
   "source": [
    "Author: Alan Peraza :)"
   ]
  },
  {
   "cell_type": "markdown",
   "metadata": {},
   "source": [
    "<h3>First chapter:</h3>"
   ]
  },
  {
   "cell_type": "markdown",
   "metadata": {},
   "source": [
    "*1. You created a monitored system for web analytics with a \"traditional\" database structure. After some minutes, you are constantly receiving the message error \"Timeout error on inserting to the database\". The database can’t keep up with\n",
    "the load, so write requests to increment pageviews are timing out. How do you fix this?*\n",
    "\n",
    "**A: You have to insert a queue between the web server and the database, so that new pageviews are added to the queue.**"
   ]
  },
  {
   "cell_type": "markdown",
   "metadata": {},
   "source": [
    "*2. How do Big Data techniques help?*\n",
    "\n",
    "**A: Student should be able to give -at least- 2 of the following answers:**\n",
    "* Databases and computation systems used for Big Data are aware of their distributed nature.\n",
    "* Makes the data immutable. \n",
    "* Capability to design the systems in different ways."
   ]
  },
  {
   "cell_type": "markdown",
   "metadata": {},
   "source": [
    "*3. What does a data system do?*\n",
    "\n",
    "**A: Manages the storage and querying of a data with a lifetime measured in years. -Answer from the book can be used, as long as it mentions the past data as necessary for current queries to have information.-**"
   ]
  },
  {
   "cell_type": "markdown",
   "metadata": {},
   "source": [
    "*4. What does the Lambda Architecture do?*\n",
    "\n",
    "**A: It provides a general purpose approach to apply arbitrary functions to data of the same nature, so that the output of the function is results with the particularity of having low latency.**"
   ]
  },
  {
   "cell_type": "markdown",
   "metadata": {},
   "source": [
    "5. (Extra) *information that’s not derived from anything is called...*\n",
    "\n",
    "**A: data**"
   ]
  },
  {
   "cell_type": "markdown",
   "metadata": {},
   "source": [
    "*6. What are the desired properties of a Big Data system?*\n",
    "\n",
    "**A: Student should list at least 4 of the following:**\n",
    "* Robustness and fault tolerance.\n",
    "* Low latency reads and updates.\n",
    "* Scalability.\n",
    "* Generalization.\n",
    "* Extensibility.\n",
    "* *Ad hoc* queries.\n",
    "* Minimal maintenance.\n",
    "* Debuggability."
   ]
  },
  {
   "cell_type": "markdown",
   "metadata": {},
   "source": [
    "*7. There  are 3 main problems with fully incremental architectures. Write them down and make a summary for each one:*\n",
    "\n",
    "**A: The three problems are: Operational complexity; Extreme complexity of achieving eventual consistency; Lack of human-fault tolerance**\n",
    " \n",
    "*Operational Complexity:* In a read/write database, as a disk index is incrementally added to and modified,\n",
    "parts of the index become unused. These unused parts take up space and eventually\n",
    "need to be reclaimed to prevent the disk from filling up.\n",
    "\n",
    "*Extreme Complexity:* System consistency is vital if the system is to be highly available. This is maintained even for small amounts of data.\n",
    "\n",
    "*Lack of human-fault tolerance:* Because mistakes are inevitable, the database in a fully incremental\n",
    "architecture is guaranteed to be corrupted."
   ]
  },
  {
   "cell_type": "markdown",
   "metadata": {},
   "source": [
    "<h3>Second chapter:</h3>"
   ]
  },
  {
   "cell_type": "markdown",
   "metadata": {},
   "source": [
    "*1. What do we mean when we say data is raw?*:\n",
    "\n",
    "**A: Raw data is valuable data. You can get a lot of information from it. It has the quality of being unprocessed. The more raw data you have, the more information you can get through queries. Storing raw data is enormously valuable because you rarely know in advance all the questions you want answered.**"
   ]
  },
  {
   "cell_type": "markdown",
   "metadata": {},
   "source": [
    "*2. What does it mean when we say data is \"always true\"? Can we link this property with another one?*\n",
    "\n",
    "**A: It is a consequence of the immutability of the data. Once a data is given as true, it must always be true. In turn, the change in the data is also recorded in other data, which maintains this property.**"
   ]
  },
  {
   "cell_type": "markdown",
   "metadata": {},
   "source": [
    "*3. Your dataset must grow with new data always true, however, there are some cases where it must be deleted. What are these cases?* \n",
    "\n",
    "**A: One, regulations that can be decreed by governmental organizations. Two, garbage collection, which is a way to eliminate low-value data, such as those that are outdated and no longer provide a value on their own.**"
   ]
  },
  {
   "cell_type": "markdown",
   "metadata": {},
   "source": [
    "*4. Which are the benefits of the fact-based model?*\n",
    "\n",
    "**A:** \n",
    "\n",
    "**Is queryable at any time in its history**\n",
    "\n",
    "**Tolerates human errors**\n",
    "\n",
    "**Handles partial information**\n",
    "\n",
    "**Has the advantages of both normalized and denormalized forms**"
   ]
  },
  {
   "cell_type": "markdown",
   "metadata": {},
   "source": [
    "*5. What is a graph schema?*\n",
    "\n",
    "**A: They're graphs that capture the structure of a dataset stored using the fact-based model**"
   ]
  },
  {
   "cell_type": "markdown",
   "metadata": {},
   "source": [
    "*6. Which are the elements of a graph schema?*\n",
    "\n",
    "**A: Nodes are the entities in the system**\n",
    "\n",
    "**A: Edges are relationships between nodes**\n",
    "\n",
    "**A: Properties are information about entities**\n",
    "\n",
    "Please remember: EDGES ARE STRICTLY BETWEEN NODES."
   ]
  },
  {
   "cell_type": "markdown",
   "metadata": {},
   "source": []
  },
  {
   "cell_type": "code",
   "execution_count": null,
   "metadata": {},
   "outputs": [],
   "source": []
  }
 ],
 "metadata": {
  "kernelspec": {
   "display_name": "Python 3",
   "language": "python",
   "name": "python3"
  },
  "language_info": {
   "codemirror_mode": {
    "name": "ipython",
    "version": 3
   },
   "file_extension": ".py",
   "mimetype": "text/x-python",
   "name": "python",
   "nbconvert_exporter": "python",
   "pygments_lexer": "ipython3",
   "version": "3.7.4"
  }
 },
 "nbformat": 4,
 "nbformat_minor": 2
}
